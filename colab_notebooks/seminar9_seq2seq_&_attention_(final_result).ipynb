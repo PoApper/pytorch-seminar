{
  "cells": [
    {
      "cell_type": "code",
      "execution_count": null,
      "metadata": {
        "id": "s7Nax25_S6E7"
      },
      "outputs": [],
      "source": [
        "import torch\n",
        "import torch.nn as nn\n",
        "from torch import optim\n",
        "import torch.nn.functional as F\n",
        "import time\n",
        "import random\n",
        "import pandas as pd\n",
        "import matplotlib.pyplot as plt\n",
        "import numpy as np\n",
        "\n",
        "device = torch.device(\"cuda\" if torch.cuda.is_available() else \"cpu\")"
      ]
    },
    {
      "cell_type": "markdown",
      "metadata": {
        "id": "ArZD-ZsRTHWu"
      },
      "source": [
        "# 데이터셋"
      ]
    },
    {
      "cell_type": "code",
      "execution_count": null,
      "metadata": {
        "colab": {
          "base_uri": "https://localhost:8080/"
        },
        "id": "0zSdij3oTAiS",
        "outputId": "6eeb0f81-b9cd-4953-d77d-dd8da95115b7"
      },
      "outputs": [
        {
          "output_type": "stream",
          "name": "stdout",
          "text": [
            "--2022-01-23 08:57:54--  https://download.pytorch.org/tutorial/data.zip\n",
            "Resolving download.pytorch.org (download.pytorch.org)... 99.86.38.96, 99.86.38.106, 99.86.38.72, ...\n",
            "Connecting to download.pytorch.org (download.pytorch.org)|99.86.38.96|:443... connected.\n",
            "HTTP request sent, awaiting response... 200 OK\n",
            "Length: 2882130 (2.7M) [application/zip]\n",
            "Saving to: ‘data.zip’\n",
            "\n",
            "\rdata.zip              0%[                    ]       0  --.-KB/s               \rdata.zip            100%[===================>]   2.75M  --.-KB/s    in 0.04s   \n",
            "\n",
            "2022-01-23 08:57:54 (65.1 MB/s) - ‘data.zip’ saved [2882130/2882130]\n",
            "\n"
          ]
        }
      ],
      "source": [
        "!wget https://download.pytorch.org/tutorial/data.zip"
      ]
    },
    {
      "cell_type": "code",
      "execution_count": null,
      "metadata": {
        "colab": {
          "base_uri": "https://localhost:8080/"
        },
        "id": "F_iTXEamTCGA",
        "outputId": "3be36641-b80e-447e-fd54-e2640e9fb8ee"
      },
      "outputs": [
        {
          "output_type": "stream",
          "name": "stdout",
          "text": [
            "Archive:  data.zip\n",
            "   creating: data/\n",
            "  inflating: data/eng-fra.txt        \n",
            "   creating: data/names/\n",
            "  inflating: data/names/Arabic.txt   \n",
            "  inflating: data/names/Chinese.txt  \n",
            "  inflating: data/names/Czech.txt    \n",
            "  inflating: data/names/Dutch.txt    \n",
            "  inflating: data/names/English.txt  \n",
            "  inflating: data/names/French.txt   \n",
            "  inflating: data/names/German.txt   \n",
            "  inflating: data/names/Greek.txt    \n",
            "  inflating: data/names/Irish.txt    \n",
            "  inflating: data/names/Italian.txt  \n",
            "  inflating: data/names/Japanese.txt  \n",
            "  inflating: data/names/Korean.txt   \n",
            "  inflating: data/names/Polish.txt   \n",
            "  inflating: data/names/Portuguese.txt  \n",
            "  inflating: data/names/Russian.txt  \n",
            "  inflating: data/names/Scottish.txt  \n",
            "  inflating: data/names/Spanish.txt  \n",
            "  inflating: data/names/Vietnamese.txt  \n"
          ]
        }
      ],
      "source": [
        "!unzip data.zip"
      ]
    },
    {
      "cell_type": "code",
      "execution_count": null,
      "metadata": {
        "colab": {
          "base_uri": "https://localhost:8080/"
        },
        "id": "sXwLB-viTG3L",
        "outputId": "16e6d4a5-5bdf-49b2-b996-3d21378a43ab"
      },
      "outputs": [
        {
          "output_type": "stream",
          "name": "stdout",
          "text": [
            "[1] 135842\n",
            "[2] 5318\n",
            "                                      src                                         tar\n",
            "19131          il est fort erudit . <eos>            <sos> he is very learned . <eos>\n",
            "2046               je suis voyant . <eos>                   <sos> i m psychic . <eos>\n",
            "22400     c est toi la professeur . <eos>            <sos> you re the teacher . <eos>\n",
            "5452         elles sont en colere . <eos>                 <sos> they re angry . <eos>\n",
            "3303         je suis trop affaire . <eos>                  <sos> i m too busy . <eos>\n",
            "71807      ils parlent de musique . <eos>  <sos> they are talking about music . <eos>\n",
            "2855      il est tellement mignon ! <eos>                  <sos> he s so cute . <eos>\n",
            "17762  nous sommes tous retraites . <eos>             <sos> we re all retired . <eos>\n",
            "2008                   je conduis . <eos>                   <sos> i m driving . <eos>\n",
            "3966                 t es plantee . <eos>                  <sos> you re stuck . <eos>\n"
          ]
        },
        {
          "output_type": "stream",
          "name": "stderr",
          "text": [
            "/usr/local/lib/python3.7/dist-packages/pandas/core/generic.py:5170: SettingWithCopyWarning: \n",
            "A value is trying to be set on a copy of a slice from a DataFrame.\n",
            "Try using .loc[row_indexer,col_indexer] = value instead\n",
            "\n",
            "See the caveats in the documentation: https://pandas.pydata.org/pandas-docs/stable/user_guide/indexing.html#returning-a-view-versus-a-copy\n",
            "  self[name] = value\n"
          ]
        }
      ],
      "source": [
        "from __future__ import unicode_literals, print_function, division\n",
        "from io import open\n",
        "import unicodedata\n",
        "import string\n",
        "import re\n",
        "\n",
        "lines = pd.read_csv('data/eng-fra.txt', names=['src', 'tar'], sep='\\t')\n",
        "print(f'[1] {len(lines)}') # 13만개\n",
        "\n",
        "# fra를 src, eng를 tar로 변경\n",
        "lines = lines.rename(columns={'src': 'tar', 'tar': 'src'})\n",
        "lines = lines.reindex(columns=['src', 'tar'])\n",
        "\n",
        "# 유니 코드 문자열을 일반 ASCII로 변환하십시오.\n",
        "# https://stackoverflow.com/a/518232/2809427\n",
        "def unicodeToAscii(s):\n",
        "    return ''.join(\n",
        "        c for c in unicodedata.normalize('NFD', s)\n",
        "        if unicodedata.category(c) != 'Mn'\n",
        "    )\n",
        "\n",
        "# 소문자, 다듬기, 그리고 문자가 아닌 문자 제거\n",
        "def normalizeString(s):\n",
        "    s = unicodeToAscii(s.lower().strip())\n",
        "    s = re.sub(r\"([.!?])\", r\" \\1\", s)\n",
        "    s = re.sub(r\"[^a-zA-Z.!?]+\", r\" \", s)\n",
        "    return s\n",
        "\n",
        "lines.src = lines.src.apply(lambda x : normalizeString(x))\n",
        "lines.tar = lines.tar.apply(lambda x : normalizeString(x))\n",
        "\n",
        "# 전체 데이터셋이 너무 많으니 \"I am\" 또는 \"He is\"와 같은 형태의 문장만 필터하여 학습\n",
        "# 또, 문장에 포함된 단어의 수가 10개 이하인 문장만 학습\n",
        "\n",
        "# rule 1\n",
        "MAX_LENGTH = 6\n",
        "\n",
        "# rule 2\n",
        "eng_prefixes = (\n",
        "    \"i am \", \"i m \", # 어퍼스트로피(')는 이미 normalize 과정에서 필터됨\n",
        "    \"he is\", \"he s \",\n",
        "    \"she is\", \"she s \",\n",
        "    \"you are\", \"you re \",\n",
        "    \"we are\", \"we re \",\n",
        "    \"they are\", \"they re \"\n",
        ")\n",
        "\n",
        "filter_TF = []\n",
        "for idx in lines.index:\n",
        "  is_underMaxLength = len(lines.loc[idx, 'src'].split(' ')) <= MAX_LENGTH \\\n",
        "                and len(lines.loc[idx, 'tar'].split(' ')) <= MAX_LENGTH\n",
        "  is_prefix = lines.loc[idx, 'tar'].startswith(eng_prefixes)\n",
        "  filter_TF.append(is_underMaxLength and is_prefix)\n",
        "\n",
        "lines = lines[filter_TF]\n",
        "print(f'[2] {len(lines)}')\n",
        "\n",
        "# 소스 언어의 맨뒤에 <eos>  토큰 추가\n",
        "# 타겟 언어의 앞뒤로 <sos>, <eos> 토큰 추가\n",
        "\n",
        "lines.src = lines.src.apply(lambda x : x + ' <eos>')\n",
        "lines.tar = lines.tar.apply(lambda x : '<sos> '+ x + ' <eos>')\n",
        "MAX_LENGTH += 2\n",
        "print(lines.sample(10))"
      ]
    },
    {
      "cell_type": "code",
      "execution_count": null,
      "metadata": {
        "colab": {
          "base_uri": "https://localhost:8080/"
        },
        "id": "10InWRXsTdfb",
        "outputId": "cb106b7b-e39e-4c82-e81a-9c126ec7de2a"
      },
      "outputs": [
        {
          "output_type": "stream",
          "name": "stdout",
          "text": [
            "2579\n",
            "1573\n"
          ]
        }
      ],
      "source": [
        "SOS_token = 0\n",
        "EOS_token = 1\n",
        "\n",
        "# vocab 정보를 저장하는 helper class\n",
        "class Lang:\n",
        "  def __init__(self, name):\n",
        "    self.name = name\n",
        "    self.word2index = {'<sos>': 0, '<eos>': 1}\n",
        "    self.word2count = {}\n",
        "    self.index2word = {0: '<sos>', 1: '<eos>'}\n",
        "    self.n_words = 2\n",
        "  \n",
        "  def addSentence(self, sentence):\n",
        "    for word in sentence.split(' '):\n",
        "      self.addWord(word)\n",
        "  \n",
        "  def addWord(self, word):\n",
        "    if word == '<sos>' or word == '<eos>': return\n",
        "    if word not in self.word2index:\n",
        "      self.word2index[word] = self.n_words\n",
        "      self.word2count[word] = 1\n",
        "      self.index2word[self.n_words] = word\n",
        "      self.n_words += 1\n",
        "    else:\n",
        "      self.word2count[word] += 1\n",
        "\n",
        "# Lang 인스턴스 생성\n",
        "input_lang = Lang('eng')\n",
        "output_lang = Lang('fra')\n",
        "\n",
        "for idx, row in lines.iterrows():\n",
        "  input_lang.addSentence(row['src'])\n",
        "  output_lang.addSentence(row['tar'])\n",
        "\n",
        "print(input_lang.n_words)\n",
        "print(output_lang.n_words)"
      ]
    },
    {
      "cell_type": "code",
      "execution_count": null,
      "metadata": {
        "colab": {
          "base_uri": "https://localhost:8080/"
        },
        "id": "63c-6BFWUTit",
        "outputId": "c2065e38-982e-4623-fe8c-2bbb8059fd79"
      },
      "outputs": [
        {
          "output_type": "stream",
          "name": "stdout",
          "text": [
            "5318\n",
            "(tensor([[2],\n",
            "        [3],\n",
            "        [4],\n",
            "        [5],\n",
            "        [1]], device='cuda:0'), tensor([[0],\n",
            "        [2],\n",
            "        [3],\n",
            "        [4],\n",
            "        [1]], device='cuda:0'))\n"
          ]
        }
      ],
      "source": [
        "def sentenceToTensor(lang, sentence):\n",
        "  integer_encode = [lang.word2index[word] for word in sentence.split(' ')]\n",
        "  return torch.LongTensor(integer_encode).to(device).view(-1, 1)\n",
        "\n",
        "training_pairs = []\n",
        "for idx, row in lines.iterrows():\n",
        "  training_pairs.append((\n",
        "    sentenceToTensor(input_lang, row['src']),\n",
        "    sentenceToTensor(output_lang, row['tar'])\n",
        "  ))\n",
        "\n",
        "print(len(training_pairs))\n",
        "print(training_pairs[0])"
      ]
    },
    {
      "cell_type": "markdown",
      "metadata": {
        "id": "JP9ydnef36yw"
      },
      "source": [
        "# 모델 정의"
      ]
    },
    {
      "cell_type": "code",
      "execution_count": null,
      "metadata": {
        "id": "Mjoagh6UTmEn"
      },
      "outputs": [],
      "source": [
        "class EncoderRNN(nn.Module):\n",
        "  # input_size = # of words in input language\n",
        "  def __init__(self, input_size, hidden_size):\n",
        "    super(EncoderRNN, self).__init__()\n",
        "    self.hidden_size = hidden_size # size of context vector\n",
        "    \n",
        "    self.embedding = nn.Embedding(input_size, hidden_size)\n",
        "    self.gru = nn.GRU(hidden_size, hidden_size)\n",
        "\n",
        "  def forward(self, input, hidden):\n",
        "    embedded = self.embedding(input).view(1, 1, -1) # TODO: 여기 view는 어떤 역할?\n",
        "    output, hidden = self.gru(embedded, hidden)\n",
        "    return output, hidden\n",
        "\n",
        "  def initHidden(self):\n",
        "    return torch.zeros(1, 1, self.hidden_size, device=device)\n",
        "\n",
        "class DecoderRNN(nn.Module):\n",
        "  # output_size = # of words in output language\n",
        "  def __init__(self, output_size, hidden_size):\n",
        "    super(DecoderRNN, self).__init__()\n",
        "    self.hidden_size = hidden_size\n",
        "\n",
        "    self.embedding = nn.Embedding(output_size, hidden_size)\n",
        "    self.gru = nn.GRU(hidden_size, hidden_size)\n",
        "    self.fc = nn.Linear(hidden_size, output_size)\n",
        "    self.softmax = nn.LogSoftmax(dim = 1)\n",
        "\n",
        "  def forward(self, input, hidden):\n",
        "    output = self.embedding(input).view(1, 1, -1)\n",
        "    output = F.relu(output)\n",
        "    output, hidden = self.gru(output, hidden)\n",
        "    output = self.fc(output[0])\n",
        "    output = self.softmax(output)\n",
        "    return output, hidden\n",
        "\n",
        "  def initHidden(self):\n",
        "    return torch.zeros(1, 1, self.hidden_size, device=device)"
      ]
    },
    {
      "cell_type": "markdown",
      "metadata": {
        "id": "bBEj7t3y3-G2"
      },
      "source": [
        "# 모델 학습"
      ]
    },
    {
      "cell_type": "code",
      "execution_count": null,
      "metadata": {
        "id": "hGJ1KX2GUZun"
      },
      "outputs": [],
      "source": [
        "def train(encoder, decoder, encoder_optimizer, decoder_optimizer, criterion, pair):\n",
        "  loss = 0\n",
        "\n",
        "  # encoder train\n",
        "  encoder_optimizer.zero_grad()\n",
        "\n",
        "  input_tensor = pair[0]\n",
        "  input_length = input_tensor.size(0)\n",
        "\n",
        "  encoder_hidden = encoder.initHidden()\n",
        "  encoder_outputs = torch.zeros(MAX_LENGTH, encoder.hidden_size, device=device)\n",
        "    # MAX_LENGTH = 10\n",
        "    # encoder의 output을 기록하는 용도\n",
        "\n",
        "  for ei in range(input_length): # iterate word one-by-one\n",
        "    encoder_output, encoder_hidden = encoder(input_tensor[ei], encoder_hidden)\n",
        "    encoder_outputs[ei] += encoder_output[0, 0]\n",
        "  \n",
        "  # decoder train\n",
        "  decoder_optimizer.zero_grad()\n",
        "\n",
        "  target_tensor = pair[1]\n",
        "  target_length = target_tensor.size(0)\n",
        "\n",
        "  decoder_input = torch.tensor([[SOS_token]], device=device) # <sos> 토큰부터 시작\n",
        "  decoder_hidden = encoder_hidden\n",
        "\n",
        "  for di in range(target_length):\n",
        "    decoder_output, decoder_hidden = decoder(decoder_input, decoder_hidden)\n",
        "    loss += criterion(decoder_output, target_tensor[di])\n",
        "    decoder_input = target_tensor[di]  # Teaching forcing: gt를 다음 input으로 넣는다\n",
        "\n",
        "  loss.backward()\n",
        "\n",
        "  encoder_optimizer.step()\n",
        "  decoder_optimizer.step()\n",
        "\n",
        "  return (loss.item() / target_length)"
      ]
    },
    {
      "cell_type": "code",
      "execution_count": null,
      "metadata": {
        "colab": {
          "base_uri": "https://localhost:8080/"
        },
        "id": "bFZQOd1sUP2L",
        "outputId": "8f86c70d-6298-412c-ec1b-55ac6dc09518"
      },
      "outputs": [
        {
          "name": "stdout",
          "output_type": "stream",
          "text": [
            "| epoch:   5 | time:  60.5 sec | loss:   0.6783\n",
            "| epoch:  10 | time:  60.5 sec | loss:   0.2288\n",
            "| epoch:  15 | time:  60.5 sec | loss:   0.0727\n",
            "| epoch:  20 | time:  60.6 sec | loss:   0.0375\n",
            "| epoch:  25 | time:  60.8 sec | loss:   0.0330\n",
            "| epoch:  30 | time:  60.5 sec | loss:   0.0317\n",
            "| epoch:  35 | time:  60.5 sec | loss:   0.0307\n",
            "| epoch:  40 | time:  61.2 sec | loss:   0.0265\n"
          ]
        }
      ],
      "source": [
        "HIDDEN_SIZE = 256\n",
        "encoder = EncoderRNN(input_lang.n_words, HIDDEN_SIZE).to(device)\n",
        "decoder = DecoderRNN(output_lang.n_words, HIDDEN_SIZE).to(device)\n",
        "\n",
        "LEARNING_RATE = 0.01\n",
        "encoder_optimizer = optim.SGD(encoder.parameters(), lr=LEARNING_RATE)\n",
        "decoder_optimizer = optim.SGD(decoder.parameters(), lr=LEARNING_RATE)\n",
        "\n",
        "criterion = nn.NLLLoss()\n",
        "\n",
        "MAX_EPOCH = 40\n",
        "train_loss_list = []\n",
        "\n",
        "for epoch in range(1, MAX_EPOCH + 1):\n",
        "  epoch_loss = 0\n",
        "  tic = time.time()\n",
        "  for pair in training_pairs:\n",
        "    loss = train(encoder, decoder, encoder_optimizer, decoder_optimizer, criterion, pair)\n",
        "    epoch_loss += loss\n",
        "\n",
        "  avg_epoch_loss = epoch_loss / len(training_pairs)\n",
        "  train_loss_list.append(avg_epoch_loss)\n",
        "  toc = time.time()\n",
        "\n",
        "  if epoch % 5 == 0:\n",
        "    print(f'| epoch: {epoch:3d} | time: {toc - tic:5.1f} sec | loss: {avg_epoch_loss:8.4f}')"
      ]
    },
    {
      "cell_type": "code",
      "execution_count": null,
      "metadata": {
        "colab": {
          "base_uri": "https://localhost:8080/",
          "height": 312
        },
        "id": "ra_y1ZgwXM3i",
        "outputId": "f7ff2a69-d64d-44b6-8384-73fd1d6986bf"
      },
      "outputs": [
        {
          "data": {
            "text/plain": [
              "[<matplotlib.lines.Line2D at 0x7f1d8e141d50>]"
            ]
          },
          "execution_count": 11,
          "metadata": {},
          "output_type": "execute_result"
        },
        {
          "data": {
            "image/png": "[encoded data removed]",
            "text/plain": [
              "<Figure size 432x288 with 1 Axes>"
            ]
          },
          "metadata": {},
          "output_type": "display_data"
        }
      ],
      "source": [
        "plt.figure()\n",
        "plt.title('Train Loss')\n",
        "plt.ylabel('loss')\n",
        "plt.xlabel('epoch')\n",
        "plt.plot(train_loss_list)"
      ]
    },
    {
      "cell_type": "markdown",
      "metadata": {
        "id": "h2jyAmJ64AA7"
      },
      "source": [
        "## 모델 평가"
      ]
    },
    {
      "cell_type": "code",
      "execution_count": null,
      "metadata": {
        "colab": {
          "base_uri": "https://localhost:8080/"
        },
        "id": "WYgkYSsR2dzF",
        "outputId": "cb6c1bef-ffdc-4fec-facf-180d54e34c6b"
      },
      "outputs": [
        {
          "name": "stdout",
          "output_type": "stream",
          "text": [
            "eng: tu es pathetique . \n",
            "fra(gt):  you re pathetic . \n",
            "fra(pred):  you re completely delusional . \n",
            "--------------------------------------------------\n",
            "eng: vous etes tres habile . \n",
            "fra(gt):  you re very clever . \n",
            "fra(pred):  you re very sophisticated . \n",
            "--------------------------------------------------\n",
            "eng: tu es creatif . \n",
            "fra(gt):  you re creative . \n",
            "fra(pred):  you re embarrassing yourself . \n",
            "--------------------------------------------------\n",
            "eng: tu es fort bon . \n",
            "fra(gt):  you re very good . \n",
            "fra(pred):  you re very sophisticated . \n",
            "--------------------------------------------------\n",
            "eng: vous etes tres intelligente . \n",
            "fra(gt):  you re very intelligent . \n",
            "fra(pred):  you re very sophisticated . \n",
            "--------------------------------------------------\n",
            "eng: je suis fou de vous . \n",
            "fra(gt):  i m crazy about you . \n",
            "fra(pred):  i m crazy about you . \n",
            "--------------------------------------------------\n",
            "eng: vous etes courtois . \n",
            "fra(gt):  you re courteous . \n",
            "fra(pred):  you re unbelievably stupid . \n",
            "--------------------------------------------------\n",
            "eng: tu es tres talentueux . \n",
            "fra(gt):  you re very talented . \n",
            "fra(pred):  you re very understanding . \n",
            "--------------------------------------------------\n",
            "eng: nous sommes satisfaites . \n",
            "fra(gt):  we re satisfied . \n",
            "fra(pred):  we re satisfied with that . \n",
            "--------------------------------------------------\n",
            "eng: je suis bon en ski . \n",
            "fra(gt):  i m good at skiing . \n",
            "fra(pred):  i m good . \n",
            "--------------------------------------------------\n"
          ]
        }
      ],
      "source": [
        "# evaluate\n",
        "def translateSentence(encoder, decoder, sentence):\n",
        "  # encoder\n",
        "  encoder.eval()\n",
        "  input_tensor = sentenceToTensor(input_lang, sentence)\n",
        "  input_length = input_tensor.size()[0]\n",
        "  encoder_hidden = encoder.initHidden()\n",
        "\n",
        "  encoder_outputs = torch.zeros(MAX_LENGTH, encoder.hidden_size, device=device)\n",
        "\n",
        "  for ei in range(input_length):\n",
        "    encoder_output, encoder_hidden = encoder(input_tensor[ei], encoder_hidden)\n",
        "    encoder_outputs[ei] += encoder_output[0, 0]\n",
        "\n",
        "  # decoder\n",
        "  decoder.eval()\n",
        "  decoder_hidden = encoder_hidden\n",
        "  decoder_input = torch.tensor([[SOS_token]], device=device)\n",
        "  decoded_words = []\n",
        "\n",
        "  for di in range(MAX_LENGTH):\n",
        "    decoder_output, decoder_hidden = decoder(decoder_input, decoder_hidden)\n",
        "    topv, topi = decoder_output.topk(1)\n",
        "    decoder_input = topi.squeeze().detach()\n",
        "\n",
        "    if topi.item() == EOS_token:\n",
        "      decoded_words.append('<eos>')\n",
        "      break\n",
        "    else:\n",
        "      decoded_words.append(output_lang.index2word[topi.item()])\n",
        "\n",
        "  return decoded_words\n",
        "\n",
        "for _ in range(10):\n",
        "  random_index = random.choice(lines.index)\n",
        "  input_sentence = lines.loc[random_index, 'src']\n",
        "  target_sentence = lines.loc[random_index, 'tar']\n",
        "  output_sentence = ' '.join(translateSentence(encoder, decoder, input_sentence))\n",
        "\n",
        "  input_sentence = input_sentence.replace('<eos>', '').replace('<sos>', '')\n",
        "  target_sentence = target_sentence.replace('<eos>', '').replace('<sos>', '')\n",
        "  output_sentence = output_sentence.replace('<eos>', '').replace('<sos>', '')\n",
        "\n",
        "  print(f'eng: {input_sentence}')\n",
        "  print(f'fra(gt): {target_sentence}')\n",
        "  print(f'fra(pred): {output_sentence}')\n",
        "  print('-' * 50)"
      ]
    },
    {
      "cell_type": "markdown",
      "metadata": {
        "id": "i9ZRns0v4D1u"
      },
      "source": [
        "# teaching force 모델 학습"
      ]
    },
    {
      "cell_type": "code",
      "execution_count": null,
      "metadata": {
        "id": "U1xxnIZSU4XB"
      },
      "outputs": [],
      "source": [
        "teacher_forcing_ratio = 0.5\n",
        "\n",
        "def trainWithRandomTeachingForce(encoder, decoder, encoder_optimizer, decoder_optimizer, criterion, pair):\n",
        "  loss = 0\n",
        "\n",
        "  # encoder train\n",
        "  encoder_optimizer.zero_grad()\n",
        "\n",
        "  input_tensor = pair[0]\n",
        "  input_length = input_tensor.size(0)\n",
        "\n",
        "  encoder_hidden = encoder.initHidden()\n",
        "  encoder_outputs = torch.zeros(MAX_LENGTH, encoder.hidden_size, device=device)\n",
        "    # MAX_LENGTH = 10\n",
        "    # encoder의 output을 기록하는 용도\n",
        "\n",
        "  for ei in range(input_length): # iterate word one-by-one\n",
        "    encoder_output, encoder_hidden = encoder(input_tensor[ei], encoder_hidden)\n",
        "    encoder_outputs[ei] += encoder_output[0, 0]\n",
        "  \n",
        "  # decoder train\n",
        "  decoder_optimizer.zero_grad()\n",
        "\n",
        "  target_tensor = pair[1]\n",
        "  target_length = target_tensor.size(0)\n",
        "\n",
        "  decoder_input = torch.tensor([[SOS_token]], device=device) # <sos> 토큰부터 시작\n",
        "  decoder_hidden = encoder_hidden\n",
        "\n",
        "  use_teacher_forcing = True if random.random() < teacher_forcing_ratio else False\n",
        "\n",
        "  if use_teacher_forcing:\n",
        "    for di in range(target_length):\n",
        "      decoder_output, decoder_hidden = decoder(decoder_input, decoder_hidden)\n",
        "      loss += criterion(decoder_output, target_tensor[di])\n",
        "      decoder_input = target_tensor[di]  # Teacher forcing: gt를 다음 input으로 넣는다\n",
        "  else:\n",
        "    for di in range(target_length):\n",
        "      decoder_output, decoder_hidden = decoder(decoder_input, decoder_hidden)\n",
        "      loss += criterion(decoder_output, target_tensor[di])\n",
        "      topv, topi = decoder_output.topk(1)\n",
        "      decoder_input = topi.squeeze().detach()  # Teacher forcing: gt를 다음 input으로 넣는다\n",
        "\n",
        "  loss.backward()\n",
        "\n",
        "  encoder_optimizer.step()\n",
        "  decoder_optimizer.step()\n",
        "\n",
        "  return (loss.item() / target_length)"
      ]
    },
    {
      "cell_type": "code",
      "execution_count": null,
      "metadata": {
        "colab": {
          "base_uri": "https://localhost:8080/"
        },
        "id": "guYcDG43XI0c",
        "outputId": "d9e08335-1422-473d-f60f-e2a84109f559"
      },
      "outputs": [
        {
          "name": "stdout",
          "output_type": "stream",
          "text": [
            "| epoch:   5 | time:  61.6 sec | loss:   0.7926\n",
            "| epoch:  10 | time:  62.1 sec | loss:   0.2586\n",
            "| epoch:  15 | time:  61.6 sec | loss:   0.0792\n",
            "| epoch:  20 | time:  61.4 sec | loss:   0.0390\n",
            "| epoch:  25 | time:  61.7 sec | loss:   0.0359\n",
            "| epoch:  30 | time:  62.3 sec | loss:   0.0372\n",
            "| epoch:  35 | time:  62.3 sec | loss:   0.0343\n",
            "| epoch:  40 | time:  62.0 sec | loss:   0.0347\n"
          ]
        }
      ],
      "source": [
        "HIDDEN_SIZE = 256\n",
        "encoder = EncoderRNN(input_lang.n_words, HIDDEN_SIZE).to(device)\n",
        "decoder = DecoderRNN(output_lang.n_words, HIDDEN_SIZE).to(device)\n",
        "\n",
        "LEARNING_RATE = 0.01\n",
        "encoder_optimizer = optim.SGD(encoder.parameters(), lr=LEARNING_RATE)\n",
        "decoder_optimizer = optim.SGD(decoder.parameters(), lr=LEARNING_RATE)\n",
        "\n",
        "criterion = nn.NLLLoss()\n",
        "\n",
        "MAX_EPOCH = 40\n",
        "train_loss_list = []\n",
        "\n",
        "for epoch in range(1, MAX_EPOCH + 1):\n",
        "  epoch_loss = 0\n",
        "  tic = time.time()\n",
        "  for pair in training_pairs:\n",
        "    loss = trainWithRandomTeachingForce(encoder, decoder, encoder_optimizer, decoder_optimizer, criterion, pair)\n",
        "    epoch_loss += loss\n",
        "\n",
        "  avg_epoch_loss = epoch_loss / len(training_pairs)\n",
        "  train_loss_list.append(avg_epoch_loss)\n",
        "  toc = time.time()\n",
        "\n",
        "  if epoch % 5 == 0:\n",
        "    print(f'| epoch: {epoch:3d} | time: {toc - tic:5.1f} sec | loss: {avg_epoch_loss:8.4f}')\n"
      ]
    },
    {
      "cell_type": "code",
      "execution_count": null,
      "metadata": {
        "colab": {
          "base_uri": "https://localhost:8080/",
          "height": 312
        },
        "id": "hK4BB2ReXOzz",
        "outputId": "339b1260-8bc3-422e-b370-98e943ed1fa0"
      },
      "outputs": [
        {
          "data": {
            "text/plain": [
              "[<matplotlib.lines.Line2D at 0x7f57c2e69310>]"
            ]
          },
          "execution_count": 15,
          "metadata": {},
          "output_type": "execute_result"
        },
        {
          "data": {
            "image/png": "[encoded data removed]",
            "text/plain": [
              "<Figure size 432x288 with 1 Axes>"
            ]
          },
          "metadata": {},
          "output_type": "display_data"
        }
      ],
      "source": [
        "plt.figure()\n",
        "plt.title('Train Loss')\n",
        "plt.ylabel('loss')\n",
        "plt.xlabel('epoch')\n",
        "plt.plot(train_loss_list)"
      ]
    },
    {
      "cell_type": "markdown",
      "metadata": {
        "id": "gWmSGpek4KKY"
      },
      "source": [
        "## 모델 평가"
      ]
    },
    {
      "cell_type": "code",
      "execution_count": null,
      "metadata": {
        "colab": {
          "base_uri": "https://localhost:8080/"
        },
        "id": "VnXQVFDlXP3h",
        "outputId": "bb874cd4-9e87-4fef-f4a4-88c3c9f96c9e"
      },
      "outputs": [
        {
          "name": "stdout",
          "output_type": "stream",
          "text": [
            "eng: je fais de mon mieux . \n",
            "fra(gt):  i am doing my best . \n",
            "fra(pred):  i am doing my best . \n",
            "--------------------------------------------------\n",
            "eng: vous etes vraiment embetant . \n",
            "fra(gt):  you re really annoying . \n",
            "fra(pred):  you re really annoying . \n",
            "--------------------------------------------------\n",
            "eng: ils ont tous disparu . \n",
            "fra(gt):  they re all gone . \n",
            "fra(pred):  they re all working together . \n",
            "--------------------------------------------------\n",
            "eng: je suis un artiste . \n",
            "fra(gt):  i m an artist . \n",
            "fra(pred):  i am an artist artist . \n",
            "--------------------------------------------------\n",
            "eng: il est constamment insatisfait . \n",
            "fra(gt):  he s always dissatisfied . \n",
            "fra(pred):  he s always dissatisfied . \n",
            "--------------------------------------------------\n",
            "eng: tu es trop confiant . \n",
            "fra(gt):  you re too trusting . \n",
            "fra(pred):  you re always being too . \n",
            "--------------------------------------------------\n",
            "eng: nous reduisons la voilure . \n",
            "fra(gt):  we re downsizing . \n",
            "fra(pred):  we re deluding ourselves . \n",
            "--------------------------------------------------\n",
            "eng: c est une belle fille . \n",
            "fra(gt):  she s a beauty . \n",
            "fra(pred):  she is a beautiful girl . \n",
            "--------------------------------------------------\n",
            "eng: je suis innocent . \n",
            "fra(gt):  i m innocent . \n",
            "fra(pred):  i m an innocent man . \n",
            "--------------------------------------------------\n",
            "eng: vous les terrifiez . \n",
            "fra(gt):  they re terrified of you . \n",
            "fra(pred):  they re terrified of you . \n",
            "--------------------------------------------------\n"
          ]
        }
      ],
      "source": [
        "for _ in range(10):\n",
        "  random_index = random.choice(lines.index)\n",
        "  input_sentence = lines.loc[random_index, 'src']\n",
        "  target_sentence = lines.loc[random_index, 'tar']\n",
        "  output_sentence = ' '.join(translateSentence(encoder, decoder, input_sentence))\n",
        "\n",
        "  input_sentence = input_sentence.replace('<eos>', '').replace('<sos>', '')\n",
        "  target_sentence = target_sentence.replace('<eos>', '').replace('<sos>', '')\n",
        "  output_sentence = output_sentence.replace('<eos>', '').replace('<sos>', '')\n",
        "\n",
        "  print(f'eng: {input_sentence}')\n",
        "  print(f'fra(gt): {target_sentence}')\n",
        "  print(f'fra(pred): {output_sentence}')\n",
        "  print('-' * 50)"
      ]
    },
    {
      "cell_type": "markdown",
      "metadata": {
        "id": "t5hJ2zKfco8g"
      },
      "source": [
        "# Attention 모델"
      ]
    },
    {
      "cell_type": "code",
      "execution_count": null,
      "metadata": {
        "id": "3AIcVvP2cn-z"
      },
      "outputs": [],
      "source": [
        "class AttnDecoderRNN(nn.Module):\n",
        "  def __init__(self, output_size, hidden_size):\n",
        "    super(AttnDecoderRNN, self).__init__()\n",
        "    self.embbed_size = hidden_size # same as hidden size\n",
        "    self.hidden_size = hidden_size \n",
        "    self.output_size = output_size # of words in output language\n",
        "  \n",
        "    self.embedding = nn.Embedding(self.output_size, self.embbed_size)\n",
        "    self.gru = nn.GRU(self.embbed_size, self.hidden_size)\n",
        "\n",
        "    # attention\n",
        "    self.attn = nn.Linear(self.hidden_size * 2, self.hidden_size)\n",
        "\n",
        "    self.fc = nn.Linear(hidden_size, output_size)\n",
        "    self.softmax = nn.LogSoftmax(dim = 1)\n",
        "\n",
        "  def forward(self, input, hidden, encoder_outputs):\n",
        "    embedded = self.embedding(input).view(1, 1, -1)\n",
        "    embedded = F.relu(embedded)\n",
        "\n",
        "    output, hidden = self.gru(embedded, hidden)\n",
        "    \n",
        "    # attention\n",
        "    attn_score = encoder_outputs.matmul(hidden.view((self.hidden_size, 1)))\n",
        "    attn_distribution = F.softmax(attn_score, dim = 0)\n",
        "    attn_value = torch.sum(encoder_outputs * attn_distribution, dim = 0).view(1, 1, self.hidden_size) # 가중합\n",
        "\n",
        "    concat = torch.cat((attn_value, hidden), dim = 2)\n",
        "    output = self.attn(concat)\n",
        "    output = torch.tanh(output)\n",
        "\n",
        "    output = self.fc(output[0])\n",
        "    output = self.softmax(output)\n",
        "\n",
        "    return output, hidden\n",
        "\n",
        "  def initHidden(self):\n",
        "    return torch.zeros(1, 1, self.hidden_size, device=device)"
      ]
    },
    {
      "cell_type": "code",
      "execution_count": null,
      "metadata": {
        "id": "FSNsRnzLodNX"
      },
      "outputs": [],
      "source": [
        "teacher_forcing_ratio = 0.5\n",
        "\n",
        "def trainAttentionModel(encoder, decoder, encoder_optimizer, decoder_optimizer, criterion, pair):\n",
        "  loss = 0\n",
        "\n",
        "  # encoder train\n",
        "  encoder_optimizer.zero_grad()\n",
        "\n",
        "  input_tensor = pair[0]\n",
        "  input_length = input_tensor.size(0)\n",
        "\n",
        "  encoder_hidden = encoder.initHidden()\n",
        "  encoder_outputs = torch.zeros(MAX_LENGTH, encoder.hidden_size, device=device)\n",
        "    # MAX_LENGTH = 10\n",
        "    # encoder의 output을 기록하는 용도\n",
        "\n",
        "  for ei in range(input_length): # iterate word one-by-one\n",
        "    encoder_output, encoder_hidden = encoder(input_tensor[ei], encoder_hidden)\n",
        "    encoder_outputs[ei] += encoder_output[0, 0]\n",
        "  \n",
        "  # decoder train\n",
        "  decoder_optimizer.zero_grad()\n",
        "\n",
        "  target_tensor = pair[1]\n",
        "  target_length = target_tensor.size(0)\n",
        "\n",
        "  decoder_input = torch.tensor([[SOS_token]], device=device) # <sos> 토큰부터 시작\n",
        "  decoder_hidden = encoder_hidden\n",
        "\n",
        "  use_teacher_forcing = True if random.random() < teacher_forcing_ratio else False\n",
        "\n",
        "  if use_teacher_forcing:\n",
        "    for di in range(target_length):\n",
        "      decoder_output, decoder_hidden \\\n",
        "        = decoder(decoder_input, decoder_hidden, encoder_outputs)\n",
        "      loss += criterion(decoder_output, target_tensor[di])\n",
        "      decoder_input = target_tensor[di]  # Teacher forcing: gt를 다음 input으로 넣는다\n",
        "  else:\n",
        "    for di in range(target_length):\n",
        "      decoder_output, decoder_hidden \\\n",
        "        = decoder(decoder_input, decoder_hidden, encoder_outputs)\n",
        "      loss += criterion(decoder_output, target_tensor[di])\n",
        "      topv, topi = decoder_output.topk(1)\n",
        "      decoder_input = topi.squeeze().detach()  # Teacher forcing: gt를 다음 input으로 넣는다\n",
        "\n",
        "  loss.backward()\n",
        "\n",
        "  encoder_optimizer.step()\n",
        "  decoder_optimizer.step()\n",
        "\n",
        "  return (loss.item() / target_length)"
      ]
    },
    {
      "cell_type": "code",
      "execution_count": 10,
      "metadata": {
        "colab": {
          "base_uri": "https://localhost:8080/"
        },
        "id": "YozY6LBzoV-v",
        "outputId": "122b5df8-33fb-4d38-c3f0-d98ee8d4b05b"
      },
      "outputs": [
        {
          "output_type": "stream",
          "name": "stdout",
          "text": [
            "| epoch:   5 | time:  96.0 sec | loss:   0.6167\n",
            "| epoch:  10 | time:  95.6 sec | loss:   0.1541\n",
            "| epoch:  15 | time:  95.5 sec | loss:   0.0708\n",
            "| epoch:  20 | time:  95.6 sec | loss:   0.0541\n",
            "| epoch:  25 | time:  95.0 sec | loss:   0.0458\n",
            "| epoch:  30 | time:  94.1 sec | loss:   0.0436\n",
            "| epoch:  35 | time:  94.1 sec | loss:   0.0426\n",
            "| epoch:  40 | time:  94.1 sec | loss:   0.0444\n"
          ]
        }
      ],
      "source": [
        "HIDDEN_SIZE = 256\n",
        "encoder = EncoderRNN(input_lang.n_words, HIDDEN_SIZE).to(device)\n",
        "decoder = AttnDecoderRNN(output_lang.n_words, HIDDEN_SIZE).to(device)\n",
        "\n",
        "LEARNING_RATE = 0.01\n",
        "encoder_optimizer = optim.SGD(encoder.parameters(), lr=LEARNING_RATE)\n",
        "decoder_optimizer = optim.SGD(decoder.parameters(), lr=LEARNING_RATE)\n",
        "\n",
        "criterion = nn.NLLLoss()\n",
        "\n",
        "MAX_EPOCH = 40\n",
        "train_loss_list = []\n",
        "\n",
        "for epoch in range(1, MAX_EPOCH + 1):\n",
        "  epoch_loss = 0\n",
        "  tic = time.time()\n",
        "  for pair in training_pairs:\n",
        "    loss = trainAttentionModel(encoder, decoder, encoder_optimizer, decoder_optimizer, criterion, pair)\n",
        "    epoch_loss += loss\n",
        "\n",
        "  avg_epoch_loss = epoch_loss / len(training_pairs)\n",
        "  train_loss_list.append(avg_epoch_loss)\n",
        "  toc = time.time()\n",
        "\n",
        "  if epoch % 5 == 0:\n",
        "    print(f'| epoch: {epoch:3d} | time: {toc - tic:5.1f} sec | loss: {avg_epoch_loss:8.4f}')\n"
      ]
    },
    {
      "cell_type": "code",
      "execution_count": 11,
      "metadata": {
        "id": "4YLHPuYeoqzi",
        "colab": {
          "base_uri": "https://localhost:8080/",
          "height": 312
        },
        "outputId": "538ce33a-5791-48a3-a934-4716c55738da"
      },
      "outputs": [
        {
          "output_type": "execute_result",
          "data": {
            "text/plain": [
              "[<matplotlib.lines.Line2D at 0x7f7557249250>]"
            ]
          },
          "metadata": {},
          "execution_count": 11
        },
        {
          "output_type": "display_data",
          "data": {
            "image/png": "[encoded data removed]",
            "text/plain": [
              "<Figure size 432x288 with 1 Axes>"
            ]
          },
          "metadata": {
            "needs_background": "light"
          }
        }
      ],
      "source": [
        "plt.figure()\n",
        "plt.title('Train Loss')\n",
        "plt.ylabel('loss')\n",
        "plt.xlabel('epoch')\n",
        "plt.plot(train_loss_list)"
      ]
    },
    {
      "cell_type": "code",
      "execution_count": 14,
      "metadata": {
        "id": "-dH1UHZ8o2h7",
        "colab": {
          "base_uri": "https://localhost:8080/"
        },
        "outputId": "8aa2b15b-515d-42ef-9b80-d313eb34cbf7"
      },
      "outputs": [
        {
          "output_type": "stream",
          "name": "stdout",
          "text": [
            "eng: je suis un nouvel etudiant . \n",
            "fra(gt):  i am a new student . \n",
            "fra(pred):  i am a new student . \n",
            "--------------------------------------------------\n",
            "eng: je suis creve . \n",
            "fra(gt):  i am tired . \n",
            "fra(pred):  i am exhausted . \n",
            "--------------------------------------------------\n",
            "eng: je suis tres desoriente . \n",
            "fra(gt):  i m all confused . \n",
            "fra(pred):  i m being being all . \n",
            "--------------------------------------------------\n",
            "eng: il fait du patin . \n",
            "fra(gt):  he is skating . \n",
            "fra(pred):  he is riding the problem . \n",
            "--------------------------------------------------\n",
            "eng: nous sommes bourrees . \n",
            "fra(gt):  we re smashed . \n",
            "fra(pred):  we re plastered . \n",
            "--------------------------------------------------\n",
            "eng: elles sont ennuyeuses . \n",
            "fra(gt):  they re boring . \n",
            "fra(pred):  they re bad . \n",
            "--------------------------------------------------\n",
            "eng: vous etes tres contrariees . \n",
            "fra(gt):  you re very upset . \n",
            "fra(pred):  you re very skeptical . \n",
            "--------------------------------------------------\n",
            "eng: vous etes branchees . \n",
            "fra(gt):  you re fashionable . \n",
            "fra(pred):  you re fashionable . \n",
            "--------------------------------------------------\n",
            "eng: c est mon meilleur ami . \n",
            "fra(gt):  he is my best friend . \n",
            "fra(pred):  he is my best friend . \n",
            "--------------------------------------------------\n",
            "eng: tu es tatillon . \n",
            "fra(gt):  you re finicky . \n",
            "fra(pred):  you re fussy . \n",
            "--------------------------------------------------\n"
          ]
        }
      ],
      "source": [
        "# evaluate\n",
        "def translateAttention(encoder, decoder, sentence):\n",
        "  # encoder\n",
        "  encoder.eval()\n",
        "  input_tensor = sentenceToTensor(input_lang, sentence)\n",
        "  input_length = input_tensor.size()[0]\n",
        "  encoder_hidden = encoder.initHidden()\n",
        "\n",
        "  encoder_outputs = torch.zeros(MAX_LENGTH, encoder.hidden_size, device=device)\n",
        "\n",
        "  for ei in range(input_length):\n",
        "    encoder_output, encoder_hidden = encoder(input_tensor[ei], encoder_hidden)\n",
        "    encoder_outputs[ei] += encoder_output[0, 0]\n",
        "\n",
        "  # decoder\n",
        "  decoder.eval()\n",
        "  decoder_hidden = encoder_hidden\n",
        "  decoder_input = torch.tensor([[SOS_token]], device=device)\n",
        "  decoded_words = []\n",
        "\n",
        "  for di in range(MAX_LENGTH):\n",
        "    decoder_output, decoder_hidden \\\n",
        "      = decoder(decoder_input, decoder_hidden, encoder_outputs)\n",
        "    topv, topi = decoder_output.topk(1)\n",
        "    decoder_input = topi.squeeze().detach()\n",
        "\n",
        "    if topi.item() == EOS_token:\n",
        "      decoded_words.append('<eos>')\n",
        "      break\n",
        "    else:\n",
        "      decoded_words.append(output_lang.index2word[topi.item()])\n",
        "\n",
        "  return decoded_words\n",
        "\n",
        "for _ in range(10):\n",
        "  random_index = random.choice(lines.index)\n",
        "  input_sentence = lines.loc[random_index, 'src']\n",
        "  target_sentence = lines.loc[random_index, 'tar']\n",
        "  output_sentence = ' '.join(translateAttention(encoder, decoder, input_sentence))\n",
        "\n",
        "  input_sentence = input_sentence.replace('<eos>', '').replace('<sos>', '')\n",
        "  target_sentence = target_sentence.replace('<eos>', '').replace('<sos>', '')\n",
        "  output_sentence = output_sentence.replace('<eos>', '').replace('<sos>', '')\n",
        "\n",
        "  print(f'eng: {input_sentence}')\n",
        "  print(f'fra(gt): {target_sentence}')\n",
        "  print(f'fra(pred): {output_sentence}')\n",
        "  print('-' * 50)"
      ]
    },
    {
      "cell_type": "code",
      "execution_count": null,
      "metadata": {
        "id": "_1rfB28ao7Tu"
      },
      "outputs": [],
      "source": [
        ""
      ]
    }
  ],
  "metadata": {
    "accelerator": "GPU",
    "colab": {
      "collapsed_sections": [],
      "name": "seminar9: seq2seq & attention (final result)",
      "provenance": []
    },
    "kernelspec": {
      "display_name": "Python 3",
      "name": "python3"
    },
    "language_info": {
      "name": "python"
    }
  },
  "nbformat": 4,
  "nbformat_minor": 0
}